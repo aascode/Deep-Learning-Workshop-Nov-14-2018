{
  "nbformat": 4,
  "nbformat_minor": 0,
  "metadata": {
    "colab": {
      "name": "03 Digit Image Classification MNIST.ipynb",
      "version": "0.3.2",
      "provenance": []
    },
    "kernelspec": {
      "display_name": "Python 3",
      "language": "python",
      "name": "python3"
    }
  },
  "cells": [
    {
      "metadata": {
        "id": "v5J5g7zpCLdF",
        "colab_type": "text"
      },
      "cell_type": "markdown",
      "source": [
        "#### Ensure that all libraries are installed "
      ]
    },
    {
      "metadata": {
        "id": "TTn-dOAKCLdH",
        "colab_type": "code",
        "colab": {}
      },
      "cell_type": "code",
      "source": [
        "from keras.datasets import mnist\n",
        "from keras.utils import to_categorical\n",
        "from keras import layers\n",
        "from keras import models\n",
        "import matplotlib.pyplot as plt"
      ],
      "execution_count": 0,
      "outputs": []
    },
    {
      "metadata": {
        "id": "scuh8OJnCLdN",
        "colab_type": "text"
      },
      "cell_type": "markdown",
      "source": [
        "Load MNIST dataset from the web"
      ]
    },
    {
      "metadata": {
        "id": "mixrJeYxCLdN",
        "colab_type": "code",
        "colab": {},
        "outputId": "d5179d42-f9fc-49a0-827e-01d29334aed0"
      },
      "cell_type": "code",
      "source": [
        "( train_images, train_labels ), ( test_images, test_labels ) = mnist.load_data()\n",
        "\n",
        "#outputting the shape of the data\n",
        "print('')\n",
        "print( 'train images shape: ' )\n",
        "print( train_images.shape )\n",
        "len( train_labels )\n",
        "print( train_labels )\n",
        "print('')\n",
        "\n",
        "print( 'test images shape: ' )\n",
        "print( test_images.shape )\n",
        "len( test_labels )\n",
        "print( test_labels )\n",
        "print('')\n"
      ],
      "execution_count": 0,
      "outputs": [
        {
          "output_type": "stream",
          "text": [
            "\n",
            "train images shape: \n",
            "(60000, 28, 28)\n",
            "[5 0 4 ... 5 6 8]\n",
            "\n",
            "test images shape: \n",
            "(10000, 28, 28)\n",
            "[7 2 1 ... 4 5 6]\n",
            "\n"
          ],
          "name": "stdout"
        }
      ]
    },
    {
      "metadata": {
        "id": "n5Q0TUrGCLdS",
        "colab_type": "text"
      },
      "cell_type": "markdown",
      "source": [
        "Visualize a random image in the train dataset"
      ]
    },
    {
      "metadata": {
        "id": "c7B300HnCLdS",
        "colab_type": "code",
        "colab": {},
        "outputId": "0c30f54e-d2b9-4861-d17d-81f47cdbfe47"
      },
      "cell_type": "code",
      "source": [
        "plt.matshow( train_images[0], cmap = 'gray' )\n",
        "plt.show()"
      ],
      "execution_count": 0,
      "outputs": [
        {
          "output_type": "display_data",
          "data": {
            "image/png": "[encoded data removed]",
            "text/plain": [
              "<Figure size 288x288 with 1 Axes>"
            ]
          },
          "metadata": {
            "tags": []
          }
        }
      ]
    },
    {
      "metadata": {
        "id": "6nIxGD7cCLdX",
        "colab_type": "code",
        "colab": {},
        "outputId": "c3fa455e-0df5-4548-869c-84ca4304600e"
      },
      "cell_type": "code",
      "source": [
        "print( train_labels[0] )"
      ],
      "execution_count": 0,
      "outputs": [
        {
          "output_type": "stream",
          "text": [
            "5\n"
          ],
          "name": "stdout"
        }
      ]
    },
    {
      "metadata": {
        "id": "MtSwoHaQCLdb",
        "colab_type": "text"
      },
      "cell_type": "markdown",
      "source": [
        "We start with reshaping the data for the convnet.\n",
        "\n",
        "notice we changed up the hyperparameters for this.\n",
        "Rather than using reshape: ( 60000, 28 * 28 ).\n",
        "We instead used: ( 60000, 28, 28, 1 ).\n",
        "\n",
        "This is because we need this format to fit the input shape of the model.\n",
        "\n",
        "Other than that we are still operating on the premise:\n",
        "\n",
        "1. shaping the data for the model.\n",
        "2. encoding the labels for both training and testing sets.\n",
        "3. compiling and training the model with training data.\n",
        "4. evaluating the model with the test data."
      ]
    },
    {
      "metadata": {
        "id": "13ZyN_wxCLdc",
        "colab_type": "code",
        "colab": {},
        "outputId": "6eefa8c4-b29c-4f9a-a44a-5b728a557917"
      },
      "cell_type": "code",
      "source": [
        "train_images = train_images.reshape( ( 60000, 28, 28, 1 ) )\n",
        "train_images = train_images.astype( 'float32' ) / 255\n",
        "test_images = test_images.reshape( ( 10000, 28, 28, 1 ) )\n",
        "test_images = test_images.astype( 'float32' ) / 255\n",
        "train_labels = to_categorical( train_labels )\n",
        "test_labels = to_categorical( test_labels )\n",
        "print( train_labels.shape )\n",
        "print( train_labels[0] )"
      ],
      "execution_count": 0,
      "outputs": [
        {
          "output_type": "stream",
          "text": [
            "(60000, 10)\n",
            "[0. 0. 0. 0. 0. 1. 0. 0. 0. 0.]\n"
          ],
          "name": "stdout"
        }
      ]
    },
    {
      "metadata": {
        "id": "OHUZowOTCLdg",
        "colab_type": "text"
      },
      "cell_type": "markdown",
      "source": [
        "This is the convolutional network. While you could use just the Dense layers to achieve digit identification. You could gain even more accuracy if you use convolutional network. So the idea is to use a filter that will create localized values which will piece together to identify digits.\n",
        "\n",
        "So here we have a couple of functions from layers:\n",
        "\n",
        "Conv2D is the convolutional layer.\n",
        "Conv2D( filters, ( filter_height, filter_width ), ( activation ), ( input_shape ) )\n",
        "\n",
        "The filter will move through the image pixel by pixel ( or \"convolves\") around the image picking up values.\n",
        "This will create an output of: 26 x 26.\n",
        "\n",
        "MaxPooling2D( height, width )\n",
        "MaxPooling layer just takes the highest values from the Convolutional layer and puts it in height x width. \n",
        "It will create an output of 2 x 2 format with the highest values from within the 4 squares.\n",
        "\n",
        "The last layer: model.add( layers.Dense( 10. activation = 'softmax' )\n",
        "\n",
        "So here we have 10 neurons which will associate, imagine digits between 0 and 9. Each neuron will contain values be between 0 - 1 and all of the values will sum to 1.\n",
        "\n",
        "So basically we have a probability for a digit prediction. The highest probability will be the model's prediction for the digit."
      ]
    },
    {
      "metadata": {
        "id": "ixyuwzFYCLdh",
        "colab_type": "code",
        "colab": {},
        "outputId": "a320fdcf-837b-4d49-b054-512290e3da16"
      },
      "cell_type": "code",
      "source": [
        "model = models.Sequential()\n",
        "model.add( layers.Conv2D( 16, ( 3, 3 ), activation = 'relu', input_shape=( 28, 28, 1 ) ) )\n",
        "model.add( layers.MaxPooling2D( ( 2, 2 ) ) )\n",
        "model.add( layers.Conv2D( 4, ( 3, 3 ), activation = 'relu' ) )\n",
        "model.add( layers.Flatten() )\n",
        "model.add( layers.Dense( 10, activation = 'softmax' ) )\n",
        "model.summary()"
      ],
      "execution_count": 0,
      "outputs": [
        {
          "output_type": "stream",
          "text": [
            "_________________________________________________________________\n",
            "Layer (type)                 Output Shape              Param #   \n",
            "=================================================================\n",
            "conv2d_30 (Conv2D)           (None, 26, 26, 16)        160       \n",
            "_________________________________________________________________\n",
            "max_pooling2d_17 (MaxPooling (None, 13, 13, 16)        0         \n",
            "_________________________________________________________________\n",
            "conv2d_31 (Conv2D)           (None, 11, 11, 4)         580       \n",
            "_________________________________________________________________\n",
            "flatten_13 (Flatten)         (None, 484)               0         \n",
            "_________________________________________________________________\n",
            "dense_17 (Dense)             (None, 10)                4850      \n",
            "=================================================================\n",
            "Total params: 5,590\n",
            "Trainable params: 5,590\n",
            "Non-trainable params: 0\n",
            "_________________________________________________________________\n"
          ],
          "name": "stdout"
        }
      ]
    },
    {
      "metadata": {
        "id": "mj9I8_OzCLdm",
        "colab_type": "text"
      },
      "cell_type": "markdown",
      "source": [
        "compiling and training the model\n",
        "\n",
        "The model will be trained with the fit function."
      ]
    },
    {
      "metadata": {
        "id": "F3sh0E3OCLdn",
        "colab_type": "code",
        "colab": {},
        "outputId": "e3503a10-85ec-4c75-8f0b-19784ba1b5ca"
      },
      "cell_type": "code",
      "source": [
        "model.compile( optimizer = 'rmsprop', loss = 'categorical_crossentropy', metrics = [ 'accuracy' ] )\n",
        "model.fit( train_images, train_labels, epochs = 4, batch_size = 64 )"
      ],
      "execution_count": 0,
      "outputs": [
        {
          "output_type": "stream",
          "text": [
            "Epoch 1/4\n",
            "60000/60000 [==============================] - 36s 596us/step - loss: 0.3962 - acc: 0.88261s - loss: 0.4047 - acc - ETA: 1s - loss: 0.401\n",
            "Epoch 2/4\n",
            "60000/60000 [==============================] - 34s 566us/step - loss: 0.1484 - acc: 0.9571\n",
            "Epoch 3/4\n",
            "60000/60000 [==============================] - 35s 584us/step - loss: 0.1000 - acc: 0.9701\n",
            "Epoch 4/4\n",
            "60000/60000 [==============================] - 40s 674us/step - loss: 0.0822 - acc: 0.9757\n"
          ],
          "name": "stdout"
        },
        {
          "output_type": "execute_result",
          "data": {
            "text/plain": [
              "<keras.callbacks.History at 0x2ba06bd05f8>"
            ]
          },
          "metadata": {
            "tags": []
          },
          "execution_count": 87
        }
      ]
    },
    {
      "metadata": {
        "id": "jPqgW345CLdt",
        "colab_type": "code",
        "colab": {},
        "outputId": "71c3bdc5-517a-41e9-8869-9f68b3bf77d1"
      },
      "cell_type": "code",
      "source": [
        "#evaluating the model with the test data now\n",
        "test_loss, test_acc = model.evaluate( test_images, test_labels )\n",
        "print( 'test_acc:', test_acc )"
      ],
      "execution_count": 0,
      "outputs": [
        {
          "output_type": "stream",
          "text": [
            "10000/10000 [==============================] - 2s 248us/step\n",
            "test_acc: 0.9803\n"
          ],
          "name": "stdout"
        }
      ]
    },
    {
      "metadata": {
        "id": "3bwpB6B_CLdv",
        "colab_type": "text"
      },
      "cell_type": "markdown",
      "source": [
        "We are visualzing the data for the test images. \n",
        "\n",
        "the test_images paramaters are different because we are calling a reshaped test_images, so the parameters have to match accordingly.\n",
        "\n",
        "notice the test_labels is also reshaped. Rather than seeing a value of 0, we get an array of 10 in binary form."
      ]
    },
    {
      "metadata": {
        "id": "yUiGV9R4CLdx",
        "colab_type": "code",
        "colab": {},
        "outputId": "da8785f1-47e3-4b3e-f306-c7ac5f9d5c81"
      },
      "cell_type": "code",
      "source": [
        "plt.matshow( test_images[3, :, :, 0], cmap = 'gray' )\n",
        "plt.show()\n",
        "print( test_labels[3] )"
      ],
      "execution_count": 0,
      "outputs": [
        {
          "output_type": "display_data",
          "data": {
            "image/png": "[encoded data removed]",
            "text/plain": [
              "<Figure size 288x288 with 1 Axes>"
            ]
          },
          "metadata": {
            "tags": []
          }
        },
        {
          "output_type": "stream",
          "text": [
            "[0. 0. 1. 0. 0. 0. 0. 0. 0. 0.]\n"
          ],
          "name": "stdout"
        }
      ]
    },
    {
      "metadata": {
        "id": "fwrAOqP9CLdz",
        "colab_type": "text"
      },
      "cell_type": "markdown",
      "source": [
        "Visualizing the predictions predictions on the unseen data\n",
        "This is going to show us how the model is predicting the images.\n",
        "\n",
        "The output is an array of values where each value is associated to a digit."
      ]
    },
    {
      "metadata": {
        "id": "88ZhvGptCLd0",
        "colab_type": "code",
        "colab": {},
        "outputId": "53e3938b-f350-4670-9509-7c4d95f2a84b"
      },
      "cell_type": "code",
      "source": [
        "predictions = model.predict( test_images )\n",
        "print( predictions[3] )"
      ],
      "execution_count": 0,
      "outputs": [
        {
          "output_type": "stream",
          "text": [
            "[2.0113177e-05 9.9873263e-01 1.6517809e-04 4.9386581e-06 8.3775027e-05\n",
            " 5.8080195e-07 3.7865896e-06 9.6657081e-04 2.1212572e-05 1.3536053e-06]\n"
          ],
          "name": "stdout"
        }
      ]
    },
    {
      "metadata": {
        "id": "EO3b5Kn5CLd4",
        "colab_type": "text"
      },
      "cell_type": "markdown",
      "source": [
        "After rounding we can see the output of the prediction. Here the model predicted the digit is 0, which is correct."
      ]
    },
    {
      "metadata": {
        "id": "lyTTJas1CLd4",
        "colab_type": "code",
        "colab": {},
        "outputId": "8bfe93ac-773a-43d2-b6ff-593a4f473c92"
      },
      "cell_type": "code",
      "source": [
        "print( predictions[3].round() )"
      ],
      "execution_count": 0,
      "outputs": [
        {
          "output_type": "stream",
          "text": [
            "[1. 0. 0. 0. 0. 0. 0. 0. 0. 0.]\n"
          ],
          "name": "stdout"
        }
      ]
    },
    {
      "metadata": {
        "id": "_PbETHIHCLd8",
        "colab_type": "text"
      },
      "cell_type": "markdown",
      "source": [
        "So here we used a convolutional neural network to predict the number for the images of digits. \n",
        "While we only managed ~98-97% we could actually get ~99% if we were able to add more capabilities to the model.\n",
        "\n",
        "There will be a supplimentary file that you can download and try with more time available or better computer."
      ]
    },
    {
      "metadata": {
        "id": "Aiew4WBlCLd9",
        "colab_type": "code",
        "colab": {}
      },
      "cell_type": "code",
      "source": [
        ""
      ],
      "execution_count": 0,
      "outputs": []
    }
  ]
}